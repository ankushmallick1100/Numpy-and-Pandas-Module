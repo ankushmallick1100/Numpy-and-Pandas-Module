{
 "cells": [
  {
   "cell_type": "markdown",
   "id": "9f47c4b3",
   "metadata": {},
   "source": [
    "# Basic Functions"
   ]
  },
  {
   "cell_type": "code",
   "execution_count": 1,
   "id": "fd5bbbb6",
   "metadata": {},
   "outputs": [
    {
     "name": "stdout",
     "output_type": "stream",
     "text": [
      "[[ 10  20  30  40  50]\n",
      " [ 60  70  80  90 100]]\n",
      "<class 'numpy.ndarray'>\n"
     ]
    }
   ],
   "source": [
    "import numpy as np\n",
    "array1 = np.array([[10,20,30,40.1,50],[60,70,80,90,100]],dtype = 'int32')\n",
    "print(array1)\n",
    "print(type(array1))"
   ]
  },
  {
   "cell_type": "code",
   "execution_count": 2,
   "id": "67ad7578",
   "metadata": {},
   "outputs": [
    {
     "data": {
      "text/plain": [
       "(2, 5)"
      ]
     },
     "execution_count": 2,
     "metadata": {},
     "output_type": "execute_result"
    }
   ],
   "source": [
    "array1.shape"
   ]
  },
  {
   "cell_type": "code",
   "execution_count": 3,
   "id": "9847bd39",
   "metadata": {},
   "outputs": [
    {
     "data": {
      "text/plain": [
       "dtype('int32')"
      ]
     },
     "execution_count": 3,
     "metadata": {},
     "output_type": "execute_result"
    }
   ],
   "source": [
    "array1.dtype"
   ]
  },
  {
   "cell_type": "code",
   "execution_count": 4,
   "id": "51d3ff5c",
   "metadata": {},
   "outputs": [
    {
     "data": {
      "text/plain": [
       "array([[0., 0., 0., 0., 0., 0.],\n",
       "       [0., 0., 0., 0., 0., 0.],\n",
       "       [0., 0., 0., 0., 0., 0.],\n",
       "       [0., 0., 0., 0., 0., 0.]])"
      ]
     },
     "execution_count": 4,
     "metadata": {},
     "output_type": "execute_result"
    }
   ],
   "source": [
    "np.zeros((4,6))"
   ]
  },
  {
   "cell_type": "code",
   "execution_count": 5,
   "id": "8c9d263d",
   "metadata": {},
   "outputs": [
    {
     "data": {
      "text/plain": [
       "array([0., 0., 0., 0., 0., 0.])"
      ]
     },
     "execution_count": 5,
     "metadata": {},
     "output_type": "execute_result"
    }
   ],
   "source": [
    "np.zeros((6))"
   ]
  },
  {
   "cell_type": "code",
   "execution_count": 6,
   "id": "50fe6190",
   "metadata": {},
   "outputs": [
    {
     "data": {
      "text/plain": [
       "dtype('float64')"
      ]
     },
     "execution_count": 6,
     "metadata": {},
     "output_type": "execute_result"
    }
   ],
   "source": [
    "np.zeros((6)).dtype"
   ]
  },
  {
   "cell_type": "code",
   "execution_count": 7,
   "id": "8adc2040",
   "metadata": {},
   "outputs": [
    {
     "data": {
      "text/plain": [
       "array([1., 1., 1., 1., 1., 1.])"
      ]
     },
     "execution_count": 7,
     "metadata": {},
     "output_type": "execute_result"
    }
   ],
   "source": [
    "np.ones(6)\n"
   ]
  },
  {
   "cell_type": "code",
   "execution_count": 8,
   "id": "c44d5a9f",
   "metadata": {},
   "outputs": [
    {
     "data": {
      "text/plain": [
       "dtype('float64')"
      ]
     },
     "execution_count": 8,
     "metadata": {},
     "output_type": "execute_result"
    }
   ],
   "source": [
    "np.ones(6).dtype"
   ]
  },
  {
   "cell_type": "code",
   "execution_count": 9,
   "id": "db3accf2",
   "metadata": {},
   "outputs": [
    {
     "data": {
      "text/plain": [
       "array([[ 10,  20,  30,  40,  50],\n",
       "       [ 60,  70,  80,  90, 100]])"
      ]
     },
     "execution_count": 9,
     "metadata": {},
     "output_type": "execute_result"
    }
   ],
   "source": [
    "array1"
   ]
  },
  {
   "cell_type": "code",
   "execution_count": 10,
   "id": "a301063d",
   "metadata": {},
   "outputs": [
    {
     "data": {
      "text/plain": [
       "array([[  100,   400,   900,  1600,  2500],\n",
       "       [ 3600,  4900,  6400,  8100, 10000]])"
      ]
     },
     "execution_count": 10,
     "metadata": {},
     "output_type": "execute_result"
    }
   ],
   "source": [
    "array1*array1"
   ]
  },
  {
   "cell_type": "code",
   "execution_count": 11,
   "id": "c69561ee",
   "metadata": {},
   "outputs": [
    {
     "data": {
      "text/plain": [
       "array([[ 20,  40,  60,  80, 100],\n",
       "       [120, 140, 160, 180, 200]])"
      ]
     },
     "execution_count": 11,
     "metadata": {},
     "output_type": "execute_result"
    }
   ],
   "source": [
    "array1+array1"
   ]
  },
  {
   "cell_type": "code",
   "execution_count": 12,
   "id": "52a980fe",
   "metadata": {},
   "outputs": [
    {
     "data": {
      "text/plain": [
       "array([[1., 1., 1., 1., 1.],\n",
       "       [1., 1., 1., 1., 1.]])"
      ]
     },
     "execution_count": 12,
     "metadata": {},
     "output_type": "execute_result"
    }
   ],
   "source": [
    "array1/array1"
   ]
  },
  {
   "cell_type": "code",
   "execution_count": 13,
   "id": "8b89c57e",
   "metadata": {},
   "outputs": [
    {
     "data": {
      "text/plain": [
       "array([[1410065408,          0, 1073741824,          0,          0],\n",
       "       [         0,          0,          0,          0,          0]])"
      ]
     },
     "execution_count": 13,
     "metadata": {},
     "output_type": "execute_result"
    }
   ],
   "source": [
    "array1**array1"
   ]
  },
  {
   "cell_type": "code",
   "execution_count": 14,
   "id": "02523ab5",
   "metadata": {},
   "outputs": [
    {
     "data": {
      "text/plain": [
       "8916100448256"
      ]
     },
     "execution_count": 14,
     "metadata": {},
     "output_type": "execute_result"
    }
   ],
   "source": [
    "12**12"
   ]
  },
  {
   "cell_type": "code",
   "execution_count": 15,
   "id": "546b4dd5",
   "metadata": {},
   "outputs": [
    {
     "data": {
      "text/plain": [
       "array([14666421])"
      ]
     },
     "execution_count": 15,
     "metadata": {},
     "output_type": "execute_result"
    }
   ],
   "source": [
    "np.array([12111*1211])"
   ]
  },
  {
   "cell_type": "code",
   "execution_count": 16,
   "id": "ad65a37e",
   "metadata": {},
   "outputs": [
    {
     "data": {
      "text/plain": [
       "array([14666421], dtype=int64)"
      ]
     },
     "execution_count": 16,
     "metadata": {},
     "output_type": "execute_result"
    }
   ],
   "source": [
    "np.array([12111.000*1211],dtype='int64')"
   ]
  },
  {
   "cell_type": "code",
   "execution_count": 17,
   "id": "159ab816",
   "metadata": {},
   "outputs": [
    {
     "data": {
      "text/plain": [
       "array([14666421])"
      ]
     },
     "execution_count": 17,
     "metadata": {},
     "output_type": "execute_result"
    }
   ],
   "source": [
    "np.array([12111.000*1211],dtype='int32')"
   ]
  },
  {
   "cell_type": "code",
   "execution_count": 18,
   "id": "9559b955",
   "metadata": {},
   "outputs": [
    {
     "data": {
      "text/plain": [
       "array([[0.1       , 0.05      , 0.03333333, 0.025     , 0.02      ],\n",
       "       [0.01666667, 0.01428571, 0.0125    , 0.01111111, 0.01      ]])"
      ]
     },
     "execution_count": 18,
     "metadata": {},
     "output_type": "execute_result"
    }
   ],
   "source": [
    "1/array1"
   ]
  },
  {
   "cell_type": "markdown",
   "id": "f3a9238b",
   "metadata": {},
   "source": [
    "# Slicing"
   ]
  },
  {
   "cell_type": "code",
   "execution_count": 19,
   "id": "07068004",
   "metadata": {},
   "outputs": [],
   "source": [
    "array2 = np.array([10,20,30,40,50,60])"
   ]
  },
  {
   "cell_type": "code",
   "execution_count": 20,
   "id": "0f418ce4",
   "metadata": {},
   "outputs": [],
   "source": [
    "arr = array2[4:6].copy()"
   ]
  },
  {
   "cell_type": "code",
   "execution_count": 21,
   "id": "f1399eb7",
   "metadata": {},
   "outputs": [
    {
     "data": {
      "text/plain": [
       "array([50, 60])"
      ]
     },
     "execution_count": 21,
     "metadata": {},
     "output_type": "execute_result"
    }
   ],
   "source": [
    "arr"
   ]
  },
  {
   "cell_type": "code",
   "execution_count": 22,
   "id": "6066a996",
   "metadata": {},
   "outputs": [],
   "source": [
    "arr[0] = 100"
   ]
  },
  {
   "cell_type": "code",
   "execution_count": 23,
   "id": "771dbc75",
   "metadata": {},
   "outputs": [
    {
     "data": {
      "text/plain": [
       "array([10, 20, 30, 40, 50, 60])"
      ]
     },
     "execution_count": 23,
     "metadata": {},
     "output_type": "execute_result"
    }
   ],
   "source": [
    "array2"
   ]
  },
  {
   "cell_type": "code",
   "execution_count": 24,
   "id": "15d5d95c",
   "metadata": {},
   "outputs": [
    {
     "data": {
      "text/plain": [
       "array([[ 10,  20,  30,  40,  50],\n",
       "       [ 60,  70,  80,  90, 100]])"
      ]
     },
     "execution_count": 24,
     "metadata": {},
     "output_type": "execute_result"
    }
   ],
   "source": [
    "array1"
   ]
  },
  {
   "cell_type": "code",
   "execution_count": 28,
   "id": "c19bc296",
   "metadata": {},
   "outputs": [
    {
     "data": {
      "text/plain": [
       "30"
      ]
     },
     "execution_count": 28,
     "metadata": {},
     "output_type": "execute_result"
    }
   ],
   "source": [
    "array1[0,2]"
   ]
  }
 ],
 "metadata": {
  "kernelspec": {
   "display_name": "Python 3 (ipykernel)",
   "language": "python",
   "name": "python3"
  },
  "language_info": {
   "codemirror_mode": {
    "name": "ipython",
    "version": 3
   },
   "file_extension": ".py",
   "mimetype": "text/x-python",
   "name": "python",
   "nbconvert_exporter": "python",
   "pygments_lexer": "ipython3",
   "version": "3.10.4"
  }
 },
 "nbformat": 4,
 "nbformat_minor": 5
}
