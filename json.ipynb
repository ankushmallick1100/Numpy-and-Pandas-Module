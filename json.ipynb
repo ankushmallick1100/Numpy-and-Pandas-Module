{
 "cells": [
  {
   "cell_type": "code",
   "execution_count": 1,
   "id": "5a601555",
   "metadata": {},
   "outputs": [],
   "source": [
    "import json"
   ]
  },
  {
   "cell_type": "code",
   "execution_count": 5,
   "id": "20784c21",
   "metadata": {},
   "outputs": [],
   "source": [
    "json_data = '{\"a\":10, \"b\":20, \"c\":30}'"
   ]
  },
  {
   "cell_type": "code",
   "execution_count": 6,
   "id": "32eaca31",
   "metadata": {},
   "outputs": [],
   "source": [
    "a = json.loads(json_data)"
   ]
  },
  {
   "cell_type": "code",
   "execution_count": 7,
   "id": "02a7e6c5",
   "metadata": {},
   "outputs": [
    {
     "data": {
      "text/plain": [
       "{'a': 10, 'b': 20, 'c': 30}"
      ]
     },
     "execution_count": 7,
     "metadata": {},
     "output_type": "execute_result"
    }
   ],
   "source": [
    "a"
   ]
  },
  {
   "cell_type": "code",
   "execution_count": 8,
   "id": "3fbaf94e",
   "metadata": {},
   "outputs": [
    {
     "data": {
      "text/plain": [
       "10"
      ]
     },
     "execution_count": 8,
     "metadata": {},
     "output_type": "execute_result"
    }
   ],
   "source": [
    "a['a']"
   ]
  },
  {
   "cell_type": "code",
   "execution_count": 10,
   "id": "a851ba03",
   "metadata": {},
   "outputs": [],
   "source": [
    "with open('2.json','w') as f:\n",
    "    json.dump(a,f)\n"
   ]
  }
 ],
 "metadata": {
  "kernelspec": {
   "display_name": "Python 3 (ipykernel)",
   "language": "python",
   "name": "python3"
  },
  "language_info": {
   "codemirror_mode": {
    "name": "ipython",
    "version": 3
   },
   "file_extension": ".py",
   "mimetype": "text/x-python",
   "name": "python",
   "nbconvert_exporter": "python",
   "pygments_lexer": "ipython3",
   "version": "3.10.4"
  }
 },
 "nbformat": 4,
 "nbformat_minor": 5
}
