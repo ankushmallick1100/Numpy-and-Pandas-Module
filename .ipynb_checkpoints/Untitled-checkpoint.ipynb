{
 "cells": [
  {
   "cell_type": "code",
   "execution_count": 1,
   "id": "bd73943e",
   "metadata": {},
   "outputs": [],
   "source": [
    "import pandas as pd"
   ]
  },
  {
   "cell_type": "code",
   "execution_count": 2,
   "id": "12a136c2",
   "metadata": {},
   "outputs": [],
   "source": [
    "df = pd.read_csv('data.csv')"
   ]
  },
  {
   "cell_type": "code",
   "execution_count": 3,
   "id": "26aab785",
   "metadata": {},
   "outputs": [
    {
     "data": {
      "text/html": [
       "<div>\n",
       "<style scoped>\n",
       "    .dataframe tbody tr th:only-of-type {\n",
       "        vertical-align: middle;\n",
       "    }\n",
       "\n",
       "    .dataframe tbody tr th {\n",
       "        vertical-align: top;\n",
       "    }\n",
       "\n",
       "    .dataframe thead th {\n",
       "        text-align: right;\n",
       "    }\n",
       "</style>\n",
       "<table border=\"1\" class=\"dataframe\">\n",
       "  <thead>\n",
       "    <tr style=\"text-align: right;\">\n",
       "      <th></th>\n",
       "      <th>Date</th>\n",
       "      <th>Open</th>\n",
       "      <th>High</th>\n",
       "      <th>Low</th>\n",
       "      <th>Close</th>\n",
       "      <th>Shares Traded</th>\n",
       "      <th>Turnover (Rs. Cr)</th>\n",
       "    </tr>\n",
       "  </thead>\n",
       "  <tbody>\n",
       "    <tr>\n",
       "      <th>0</th>\n",
       "      <td>28-Mar-2022</td>\n",
       "      <td>17181.85</td>\n",
       "      <td>17235.10</td>\n",
       "      <td>17003.9</td>\n",
       "      <td>17222.00</td>\n",
       "      <td>253240837</td>\n",
       "      <td>19976.26</td>\n",
       "    </tr>\n",
       "    <tr>\n",
       "      <th>1</th>\n",
       "      <td>29-Mar-2022</td>\n",
       "      <td>17297.20</td>\n",
       "      <td>17343.65</td>\n",
       "      <td>17235.7</td>\n",
       "      <td>17325.30</td>\n",
       "      <td>235149625</td>\n",
       "      <td>20305.78</td>\n",
       "    </tr>\n",
       "    <tr>\n",
       "      <th>2</th>\n",
       "      <td>30-Mar-2022</td>\n",
       "      <td>17468.15</td>\n",
       "      <td>17522.50</td>\n",
       "      <td>17387.2</td>\n",
       "      <td>17498.25</td>\n",
       "      <td>505031841</td>\n",
       "      <td>28907.47</td>\n",
       "    </tr>\n",
       "    <tr>\n",
       "      <th>3</th>\n",
       "      <td>31-Mar-2022</td>\n",
       "      <td>17519.20</td>\n",
       "      <td>17559.80</td>\n",
       "      <td>17435.2</td>\n",
       "      <td>17464.75</td>\n",
       "      <td>281111679</td>\n",
       "      <td>24032.07</td>\n",
       "    </tr>\n",
       "    <tr>\n",
       "      <th>4</th>\n",
       "      <td>01-Apr-2022</td>\n",
       "      <td>17436.90</td>\n",
       "      <td>17703.70</td>\n",
       "      <td>17422.7</td>\n",
       "      <td>17670.45</td>\n",
       "      <td>291773447</td>\n",
       "      <td>21132.13</td>\n",
       "    </tr>\n",
       "  </tbody>\n",
       "</table>\n",
       "</div>"
      ],
      "text/plain": [
       "          Date      Open      High      Low     Close  Shares Traded  \\\n",
       "0  28-Mar-2022  17181.85  17235.10  17003.9  17222.00      253240837   \n",
       "1  29-Mar-2022  17297.20  17343.65  17235.7  17325.30      235149625   \n",
       "2  30-Mar-2022  17468.15  17522.50  17387.2  17498.25      505031841   \n",
       "3  31-Mar-2022  17519.20  17559.80  17435.2  17464.75      281111679   \n",
       "4  01-Apr-2022  17436.90  17703.70  17422.7  17670.45      291773447   \n",
       "\n",
       "   Turnover (Rs. Cr)  \n",
       "0           19976.26  \n",
       "1           20305.78  \n",
       "2           28907.47  \n",
       "3           24032.07  \n",
       "4           21132.13  "
      ]
     },
     "execution_count": 3,
     "metadata": {},
     "output_type": "execute_result"
    }
   ],
   "source": [
    "df.head()"
   ]
  },
  {
   "cell_type": "code",
   "execution_count": 4,
   "id": "1dea8ba1",
   "metadata": {},
   "outputs": [
    {
     "name": "stdout",
     "output_type": "stream",
     "text": [
      "object\n"
     ]
    }
   ],
   "source": [
    "print(df['Date'].dtype)"
   ]
  },
  {
   "cell_type": "code",
   "execution_count": 5,
   "id": "dfbb4168",
   "metadata": {},
   "outputs": [
    {
     "name": "stdout",
     "output_type": "stream",
     "text": [
      "float64\n"
     ]
    }
   ],
   "source": [
    "print(df['High'].dtype)"
   ]
  },
  {
   "cell_type": "code",
   "execution_count": 6,
   "id": "b92f6568",
   "metadata": {},
   "outputs": [],
   "source": [
    "c = df['High']"
   ]
  },
  {
   "cell_type": "code",
   "execution_count": 7,
   "id": "dcbe7445",
   "metadata": {},
   "outputs": [
    {
     "data": {
      "text/plain": [
       "0     17235.10\n",
       "1     17343.65\n",
       "2     17522.50\n",
       "3     17559.80\n",
       "4     17703.70\n",
       "        ...   \n",
       "86    17172.80\n",
       "87    17356.25\n",
       "88    17390.15\n",
       "89    17407.50\n",
       "90    17490.70\n",
       "Name: High, Length: 91, dtype: float64"
      ]
     },
     "execution_count": 7,
     "metadata": {},
     "output_type": "execute_result"
    }
   ],
   "source": [
    "c"
   ]
  },
  {
   "cell_type": "code",
   "execution_count": 8,
   "id": "94cf5e51",
   "metadata": {},
   "outputs": [
    {
     "name": "stdout",
     "output_type": "stream",
     "text": [
      "0     17235.10\n",
      "1     17343.65\n",
      "2     17522.50\n",
      "3     17559.80\n",
      "4     17703.70\n",
      "        ...   \n",
      "86    17172.80\n",
      "87    17356.25\n",
      "88    17390.15\n",
      "89    17407.50\n",
      "90    17490.70\n",
      "Name: High, Length: 91, dtype: category\n",
      "Categories (91, float64): [15382.50, 15400.40, 15565.40, 15628.45, ..., 17842.75, 17901.00, 18095.45, 18114.65]\n"
     ]
    },
    {
     "name": "stderr",
     "output_type": "stream",
     "text": [
      "C:\\Users\\ankus\\AppData\\Local\\Temp\\ipykernel_11996\\1189946798.py:1: FutureWarning: Index.ravel returning ndarray is deprecated; in a future version this will return a view on self.\n",
      "  print(df['High'].astype('category'))\n"
     ]
    }
   ],
   "source": [
    "print(df['High'].astype('category'))"
   ]
  }
 ],
 "metadata": {
  "kernelspec": {
   "display_name": "Python 3 (ipykernel)",
   "language": "python",
   "name": "python3"
  },
  "language_info": {
   "codemirror_mode": {
    "name": "ipython",
    "version": 3
   },
   "file_extension": ".py",
   "mimetype": "text/x-python",
   "name": "python",
   "nbconvert_exporter": "python",
   "pygments_lexer": "ipython3",
   "version": "3.10.4"
  }
 },
 "nbformat": 4,
 "nbformat_minor": 5
}
